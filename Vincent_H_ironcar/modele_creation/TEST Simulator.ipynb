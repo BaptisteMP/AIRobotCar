{
 "cells": [
  {
   "cell_type": "code",
   "execution_count": 1,
   "metadata": {},
   "outputs": [],
   "source": [
    "from roadsimulator.simulator import Simulator"
   ]
  },
  {
   "cell_type": "code",
   "execution_count": 2,
   "metadata": {},
   "outputs": [],
   "source": [
    "import os\n",
    "import numpy as np\n",
    "\n",
    "from tqdm import tqdm\n",
    "from scipy.misc import imread"
   ]
  },
  {
   "cell_type": "code",
   "execution_count": 3,
   "metadata": {},
   "outputs": [],
   "source": [
    "simulator = Simulator()\n",
    "#Simulator class"
   ]
  },
  {
   "cell_type": "code",
   "execution_count": 4,
   "metadata": {},
   "outputs": [],
   "source": [
    "from roadsimulator.colors import White, DarkShadow\n",
    "from roadsimulator.layers.layers import Background, DrawLines, Perspective, Crop"
   ]
  },
  {
   "cell_type": "code",
   "execution_count": 5,
   "metadata": {
    "scrolled": true
   },
   "outputs": [
    {
     "name": "stderr",
     "output_type": "stream",
     "text": [
      "loading images: 100%|██████████| 2/2 [00:01<00:00,  1.68it/s]\n",
      "rotating images: 100%|██████████| 2/2 [00:00<00:00, 64.69it/s]\n",
      "resizing images: 100%|██████████| 2/2 [00:00<00:00, 33.99it/s]\n",
      "cropping images: 100%|██████████| 2/2 [00:00<00:00, 668.68it/s]\n"
     ]
    }
   ],
   "source": [
    "dark = DarkShadow()\n",
    "#on décide de tracer une ligne noire, on peut importer les autres couleurs (White,yellow...) et modifier cela dans DrawLines\n",
    "\n",
    "simulator.add(Background(n_backgrounds=3, path='./test_ground', input_size=(250, 200)))\n",
    "simulator.add(DrawLines(input_size=(250, 200), color_range=dark))\n",
    "simulator.add(Perspective())\n",
    "simulator.add(Crop())"
   ]
  },
  {
   "cell_type": "code",
   "execution_count": 6,
   "metadata": {
    "scrolled": true
   },
   "outputs": [
    {
     "name": "stdout",
     "output_type": "stream",
     "text": [
      "The path `my_dataset` already exists !\n",
      "Deleting it...\n"
     ]
    },
    {
     "name": "stderr",
     "output_type": "stream",
     "text": [
      "100%|██████████| 2000/2000 [01:25<00:00, 23.49it/s]\n"
     ]
    }
   ],
   "source": [
    "simulator.generate(n_examples=2000, path='my_dataset')\n",
    "#generate n_examples road pictures in the folder my_dataset"
   ]
  },
  {
   "cell_type": "code",
   "execution_count": 7,
   "metadata": {
    "scrolled": true
   },
   "outputs": [
    {
     "name": "stdout",
     "output_type": "stream",
     "text": [
      "my_dataset\n"
     ]
    },
    {
     "name": "stderr",
     "output_type": "stream",
     "text": [
      "100%|██████████| 2000/2000 [00:02<00:00, 797.74it/s]\n"
     ]
    }
   ],
   "source": [
    "from roadsimulator.models.utils import get_datasets\n",
    "#associate pictures and their labels, and create the training, validating and testing sets.\n",
    "train_X, train_Y, val_X, val_Y, test_X, test_Y = get_datasets('my_dataset', n_images=3000)"
   ]
  },
  {
   "cell_type": "code",
   "execution_count": 8,
   "metadata": {},
   "outputs": [
    {
     "name": "stderr",
     "output_type": "stream",
     "text": [
      "C:\\Users\\Baptiste\\Anaconda3\\lib\\site-packages\\h5py\\__init__.py:36: FutureWarning: Conversion of the second argument of issubdtype from `float` to `np.floating` is deprecated. In future, it will be treated as `np.float64 == np.dtype(float).type`.\n",
      "  from ._conv import register_converters as _register_converters\n",
      "Using TensorFlow backend.\n"
     ]
    }
   ],
   "source": [
    "from keras.layers import Input, Convolution2D, MaxPooling2D, Activation\n",
    "from keras.layers import Flatten, Dense\n",
    "from keras.models import Model"
   ]
  },
  {
   "cell_type": "code",
   "execution_count": 9,
   "metadata": {
    "scrolled": true
   },
   "outputs": [
    {
     "name": "stderr",
     "output_type": "stream",
     "text": [
      "C:\\Users\\Baptiste\\Anaconda3\\lib\\site-packages\\ipykernel_launcher.py:4: UserWarning: Update your `Conv2D` call to the Keras 2 API: `Conv2D(1, (3, 3), activation=\"relu\", padding=\"same\")`\n",
      "  after removing the cwd from sys.path.\n",
      "C:\\Users\\Baptiste\\Anaconda3\\lib\\site-packages\\ipykernel_launcher.py:7: UserWarning: Update your `Conv2D` call to the Keras 2 API: `Conv2D(2, (3, 3), activation=\"relu\", padding=\"same\")`\n",
      "  import sys\n",
      "C:\\Users\\Baptiste\\Anaconda3\\lib\\site-packages\\ipykernel_launcher.py:10: UserWarning: Update your `Conv2D` call to the Keras 2 API: `Conv2D(2, (3, 3), activation=\"relu\", padding=\"same\")`\n",
      "  # Remove the CWD from sys.path while we load stuff.\n",
      "C:\\Users\\Baptiste\\Anaconda3\\lib\\site-packages\\ipykernel_launcher.py:13: UserWarning: Update your `Conv2D` call to the Keras 2 API: `Conv2D(4, (3, 3), activation=\"relu\", padding=\"same\")`\n",
      "  del sys.path[0]\n",
      "C:\\Users\\Baptiste\\Anaconda3\\lib\\site-packages\\ipykernel_launcher.py:24: UserWarning: Update your `Model` call to the Keras 2 API: `Model(inputs=[<tf.Tenso..., outputs=[<tf.Tenso...)`\n",
      "C:\\Users\\Baptiste\\Anaconda3\\lib\\site-packages\\ipykernel_launcher.py:27: UserWarning: The `nb_epoch` argument in `fit` has been renamed `epochs`.\n"
     ]
    },
    {
     "name": "stdout",
     "output_type": "stream",
     "text": [
      "Train on 1312 samples, validate on 164 samples\n",
      "Epoch 1/10\n",
      "1312/1312 [==============================] - ETA: 1:34 - loss: 1.5948 - acc: 0.400 - ETA: 59s - loss: 1.5973 - acc: 0.300 - ETA: 45s - loss: 1.5946 - acc: 0.28 - ETA: 38s - loss: 1.5908 - acc: 0.26 - ETA: 34s - loss: 1.5952 - acc: 0.23 - ETA: 31s - loss: 1.5910 - acc: 0.24 - ETA: 29s - loss: 1.5898 - acc: 0.25 - ETA: 27s - loss: 1.5836 - acc: 0.27 - ETA: 25s - loss: 1.5824 - acc: 0.28 - ETA: 24s - loss: 1.5745 - acc: 0.30 - ETA: 23s - loss: 1.5736 - acc: 0.29 - ETA: 22s - loss: 1.5721 - acc: 0.28 - ETA: 21s - loss: 1.5692 - acc: 0.29 - ETA: 21s - loss: 1.5641 - acc: 0.31 - ETA: 20s - loss: 1.5583 - acc: 0.32 - ETA: 19s - loss: 1.5532 - acc: 0.33 - ETA: 19s - loss: 1.5488 - acc: 0.35 - ETA: 18s - loss: 1.5466 - acc: 0.35 - ETA: 18s - loss: 1.5406 - acc: 0.36 - ETA: 17s - loss: 1.5338 - acc: 0.37 - ETA: 17s - loss: 1.5277 - acc: 0.38 - ETA: 16s - loss: 1.5218 - acc: 0.38 - ETA: 16s - loss: 1.5162 - acc: 0.38 - ETA: 15s - loss: 1.5105 - acc: 0.39 - ETA: 15s - loss: 1.5032 - acc: 0.39 - ETA: 14s - loss: 1.4958 - acc: 0.40 - ETA: 14s - loss: 1.4842 - acc: 0.41 - ETA: 14s - loss: 1.4763 - acc: 0.42 - ETA: 13s - loss: 1.4680 - acc: 0.43 - ETA: 13s - loss: 1.4599 - acc: 0.44 - ETA: 12s - loss: 1.4459 - acc: 0.45 - ETA: 12s - loss: 1.4384 - acc: 0.46 - ETA: 11s - loss: 1.4261 - acc: 0.47 - ETA: 11s - loss: 1.4163 - acc: 0.47 - ETA: 11s - loss: 1.4098 - acc: 0.47 - ETA: 10s - loss: 1.3991 - acc: 0.48 - ETA: 10s - loss: 1.3914 - acc: 0.48 - ETA: 9s - loss: 1.3789 - acc: 0.4961 - ETA: 9s - loss: 1.3721 - acc: 0.497 - ETA: 9s - loss: 1.3598 - acc: 0.502 - ETA: 8s - loss: 1.3503 - acc: 0.507 - ETA: 8s - loss: 1.3430 - acc: 0.508 - ETA: 8s - loss: 1.3332 - acc: 0.511 - ETA: 7s - loss: 1.3236 - acc: 0.517 - ETA: 7s - loss: 1.3125 - acc: 0.524 - ETA: 7s - loss: 1.3041 - acc: 0.528 - ETA: 6s - loss: 1.2943 - acc: 0.533 - ETA: 6s - loss: 1.2836 - acc: 0.539 - ETA: 5s - loss: 1.2707 - acc: 0.544 - ETA: 5s - loss: 1.2599 - acc: 0.550 - ETA: 5s - loss: 1.2471 - acc: 0.556 - ETA: 4s - loss: 1.2358 - acc: 0.562 - ETA: 4s - loss: 1.2247 - acc: 0.568 - ETA: 4s - loss: 1.2122 - acc: 0.575 - ETA: 3s - loss: 1.2007 - acc: 0.581 - ETA: 3s - loss: 1.1932 - acc: 0.583 - ETA: 3s - loss: 1.1812 - acc: 0.589 - ETA: 2s - loss: 1.1688 - acc: 0.594 - ETA: 2s - loss: 1.1569 - acc: 0.598 - ETA: 1s - loss: 1.1450 - acc: 0.603 - ETA: 1s - loss: 1.1345 - acc: 0.605 - ETA: 1s - loss: 1.1235 - acc: 0.610 - ETA: 0s - loss: 1.1152 - acc: 0.612 - ETA: 0s - loss: 1.1037 - acc: 0.617 - ETA: 0s - loss: 1.0923 - acc: 0.620 - 25s 19ms/step - loss: 1.0854 - acc: 0.6235 - val_loss: 0.4575 - val_acc: 0.8354\n",
      "Epoch 2/10\n",
      "1312/1312 [==============================] - ETA: 23s - loss: 0.5552 - acc: 0.75 - ETA: 22s - loss: 0.4838 - acc: 0.82 - ETA: 22s - loss: 0.4432 - acc: 0.85 - ETA: 23s - loss: 0.4140 - acc: 0.86 - ETA: 22s - loss: 0.3885 - acc: 0.88 - ETA: 22s - loss: 0.3641 - acc: 0.89 - ETA: 21s - loss: 0.3737 - acc: 0.87 - ETA: 21s - loss: 0.3898 - acc: 0.86 - ETA: 20s - loss: 0.3940 - acc: 0.86 - ETA: 20s - loss: 0.3923 - acc: 0.87 - ETA: 20s - loss: 0.3689 - acc: 0.88 - ETA: 19s - loss: 0.3654 - acc: 0.88 - ETA: 19s - loss: 0.3510 - acc: 0.89 - ETA: 18s - loss: 0.3576 - acc: 0.88 - ETA: 18s - loss: 0.3531 - acc: 0.89 - ETA: 17s - loss: 0.3582 - acc: 0.89 - ETA: 17s - loss: 0.3607 - acc: 0.88 - ETA: 16s - loss: 0.3541 - acc: 0.88 - ETA: 16s - loss: 0.3440 - acc: 0.88 - ETA: 16s - loss: 0.3424 - acc: 0.89 - ETA: 15s - loss: 0.3377 - acc: 0.89 - ETA: 15s - loss: 0.3308 - acc: 0.89 - ETA: 15s - loss: 0.3272 - acc: 0.89 - ETA: 14s - loss: 0.3211 - acc: 0.89 - ETA: 14s - loss: 0.3178 - acc: 0.89 - ETA: 14s - loss: 0.3094 - acc: 0.90 - ETA: 13s - loss: 0.3096 - acc: 0.89 - ETA: 13s - loss: 0.3114 - acc: 0.89 - ETA: 12s - loss: 0.3058 - acc: 0.90 - ETA: 12s - loss: 0.2997 - acc: 0.90 - ETA: 12s - loss: 0.3028 - acc: 0.90 - ETA: 11s - loss: 0.2999 - acc: 0.90 - ETA: 11s - loss: 0.3069 - acc: 0.89 - ETA: 11s - loss: 0.3064 - acc: 0.89 - ETA: 10s - loss: 0.3114 - acc: 0.89 - ETA: 10s - loss: 0.3069 - acc: 0.89 - ETA: 9s - loss: 0.3023 - acc: 0.8959 - ETA: 9s - loss: 0.3014 - acc: 0.896 - ETA: 9s - loss: 0.3001 - acc: 0.897 - ETA: 8s - loss: 0.3007 - acc: 0.896 - ETA: 8s - loss: 0.3004 - acc: 0.893 - ETA: 8s - loss: 0.3002 - acc: 0.892 - ETA: 7s - loss: 0.2992 - acc: 0.894 - ETA: 7s - loss: 0.2959 - acc: 0.895 - ETA: 7s - loss: 0.2955 - acc: 0.895 - ETA: 6s - loss: 0.2916 - acc: 0.897 - ETA: 6s - loss: 0.2928 - acc: 0.894 - ETA: 6s - loss: 0.2932 - acc: 0.892 - ETA: 5s - loss: 0.2917 - acc: 0.892 - ETA: 5s - loss: 0.2924 - acc: 0.892 - ETA: 5s - loss: 0.2876 - acc: 0.894 - ETA: 4s - loss: 0.2852 - acc: 0.895 - ETA: 4s - loss: 0.2875 - acc: 0.893 - ETA: 3s - loss: 0.2867 - acc: 0.893 - ETA: 3s - loss: 0.2851 - acc: 0.895 - ETA: 3s - loss: 0.2869 - acc: 0.894 - ETA: 2s - loss: 0.2892 - acc: 0.893 - ETA: 2s - loss: 0.2891 - acc: 0.894 - ETA: 2s - loss: 0.2868 - acc: 0.895 - ETA: 1s - loss: 0.2855 - acc: 0.895 - ETA: 1s - loss: 0.2885 - acc: 0.895 - ETA: 1s - loss: 0.2843 - acc: 0.897 - ETA: 0s - loss: 0.2820 - acc: 0.897 - ETA: 0s - loss: 0.2805 - acc: 0.897 - ETA: 0s - loss: 0.2813 - acc: 0.897 - 24s 19ms/step - loss: 0.2827 - acc: 0.8963 - val_loss: 0.3654 - val_acc: 0.8415\n",
      "Epoch 3/10\n",
      "1312/1312 [==============================] - ETA: 21s - loss: 0.2519 - acc: 0.95 - ETA: 22s - loss: 0.1905 - acc: 0.92 - ETA: 22s - loss: 0.1889 - acc: 0.91 - ETA: 22s - loss: 0.1544 - acc: 0.93 - ETA: 21s - loss: 0.1487 - acc: 0.94 - ETA: 21s - loss: 0.1611 - acc: 0.93 - ETA: 20s - loss: 0.1716 - acc: 0.92 - ETA: 20s - loss: 0.1875 - acc: 0.91 - ETA: 20s - loss: 0.1709 - acc: 0.92 - ETA: 20s - loss: 0.1827 - acc: 0.92 - ETA: 20s - loss: 0.1983 - acc: 0.91 - ETA: 19s - loss: 0.2027 - acc: 0.91 - ETA: 19s - loss: 0.1954 - acc: 0.91 - ETA: 18s - loss: 0.2173 - acc: 0.91 - ETA: 18s - loss: 0.2172 - acc: 0.91 - ETA: 18s - loss: 0.2117 - acc: 0.91 - ETA: 17s - loss: 0.2046 - acc: 0.92 - ETA: 17s - loss: 0.2004 - acc: 0.91 - ETA: 16s - loss: 0.1942 - acc: 0.92 - ETA: 16s - loss: 0.1910 - acc: 0.92 - ETA: 16s - loss: 0.1891 - acc: 0.92 - ETA: 15s - loss: 0.1890 - acc: 0.92 - ETA: 15s - loss: 0.1860 - acc: 0.92 - ETA: 15s - loss: 0.1878 - acc: 0.92 - ETA: 15s - loss: 0.1839 - acc: 0.93 - ETA: 14s - loss: 0.1959 - acc: 0.92 - ETA: 14s - loss: 0.1912 - acc: 0.92 - ETA: 13s - loss: 0.1929 - acc: 0.92 - ETA: 13s - loss: 0.1891 - acc: 0.92 - ETA: 13s - loss: 0.1896 - acc: 0.92 - ETA: 12s - loss: 0.1890 - acc: 0.92 - ETA: 12s - loss: 0.1928 - acc: 0.92 - ETA: 12s - loss: 0.1943 - acc: 0.92 - ETA: 11s - loss: 0.1952 - acc: 0.92 - ETA: 11s - loss: 0.1989 - acc: 0.92 - ETA: 11s - loss: 0.1962 - acc: 0.92 - ETA: 10s - loss: 0.1953 - acc: 0.92 - ETA: 10s - loss: 0.1946 - acc: 0.92 - ETA: 9s - loss: 0.1920 - acc: 0.9256 - ETA: 9s - loss: 0.1904 - acc: 0.926 - ETA: 9s - loss: 0.1869 - acc: 0.928 - ETA: 8s - loss: 0.1858 - acc: 0.927 - ETA: 8s - loss: 0.1828 - acc: 0.929 - ETA: 8s - loss: 0.1821 - acc: 0.929 - ETA: 7s - loss: 0.1885 - acc: 0.924 - ETA: 7s - loss: 0.1917 - acc: 0.923 - ETA: 7s - loss: 0.1951 - acc: 0.921 - ETA: 6s - loss: 0.1970 - acc: 0.920 - ETA: 6s - loss: 0.1983 - acc: 0.920 - ETA: 5s - loss: 0.1969 - acc: 0.919 - ETA: 5s - loss: 0.1946 - acc: 0.920 - ETA: 5s - loss: 0.1926 - acc: 0.922 - ETA: 4s - loss: 0.1914 - acc: 0.921 - ETA: 4s - loss: 0.1924 - acc: 0.922 - ETA: 4s - loss: 0.1903 - acc: 0.923 - ETA: 3s - loss: 0.1954 - acc: 0.921 - ETA: 3s - loss: 0.1960 - acc: 0.921 - ETA: 2s - loss: 0.1983 - acc: 0.920 - ETA: 2s - loss: 0.1957 - acc: 0.922 - ETA: 2s - loss: 0.1957 - acc: 0.921 - ETA: 1s - loss: 0.1956 - acc: 0.921 - ETA: 1s - loss: 0.1952 - acc: 0.921 - ETA: 1s - loss: 0.1957 - acc: 0.921 - ETA: 0s - loss: 0.1968 - acc: 0.920 - ETA: 0s - loss: 0.1974 - acc: 0.920 - 27s 21ms/step - loss: 0.1970 - acc: 0.9207 - val_loss: 0.3237 - val_acc: 0.8659\n",
      "Epoch 4/10\n",
      "1312/1312 [==============================] - ETA: 28s - loss: 0.0897 - acc: 0.95 - ETA: 27s - loss: 0.1023 - acc: 0.95 - ETA: 25s - loss: 0.0920 - acc: 0.96 - ETA: 25s - loss: 0.1247 - acc: 0.96 - ETA: 24s - loss: 0.1341 - acc: 0.96 - ETA: 23s - loss: 0.1364 - acc: 0.95 - ETA: 23s - loss: 0.1605 - acc: 0.92 - ETA: 23s - loss: 0.1548 - acc: 0.92 - ETA: 22s - loss: 0.1638 - acc: 0.91 - ETA: 22s - loss: 0.1599 - acc: 0.92 - ETA: 22s - loss: 0.1479 - acc: 0.92 - ETA: 21s - loss: 0.1479 - acc: 0.92 - ETA: 21s - loss: 0.1511 - acc: 0.92 - ETA: 20s - loss: 0.1431 - acc: 0.93 - ETA: 19s - loss: 0.1386 - acc: 0.93 - ETA: 19s - loss: 0.1411 - acc: 0.93 - ETA: 18s - loss: 0.1404 - acc: 0.93 - ETA: 18s - loss: 0.1514 - acc: 0.93 - ETA: 18s - loss: 0.1550 - acc: 0.92 - ETA: 17s - loss: 0.1557 - acc: 0.93 - ETA: 17s - loss: 0.1526 - acc: 0.93 - ETA: 16s - loss: 0.1486 - acc: 0.93 - ETA: 16s - loss: 0.1474 - acc: 0.93 - ETA: 15s - loss: 0.1496 - acc: 0.93 - ETA: 15s - loss: 0.1465 - acc: 0.93 - ETA: 15s - loss: 0.1469 - acc: 0.93 - ETA: 14s - loss: 0.1459 - acc: 0.93 - ETA: 14s - loss: 0.1499 - acc: 0.93 - ETA: 14s - loss: 0.1502 - acc: 0.93 - ETA: 13s - loss: 0.1475 - acc: 0.93 - ETA: 13s - loss: 0.1459 - acc: 0.93 - ETA: 13s - loss: 0.1446 - acc: 0.93 - ETA: 12s - loss: 0.1454 - acc: 0.93 - ETA: 12s - loss: 0.1484 - acc: 0.93 - ETA: 11s - loss: 0.1503 - acc: 0.93 - ETA: 11s - loss: 0.1479 - acc: 0.93 - ETA: 11s - loss: 0.1479 - acc: 0.93 - ETA: 10s - loss: 0.1478 - acc: 0.93 - ETA: 10s - loss: 0.1499 - acc: 0.92 - ETA: 9s - loss: 0.1470 - acc: 0.9312 - ETA: 9s - loss: 0.1456 - acc: 0.931 - ETA: 9s - loss: 0.1441 - acc: 0.933 - ETA: 8s - loss: 0.1441 - acc: 0.933 - ETA: 8s - loss: 0.1454 - acc: 0.933 - ETA: 7s - loss: 0.1452 - acc: 0.933 - ETA: 7s - loss: 0.1458 - acc: 0.933 - ETA: 7s - loss: 0.1442 - acc: 0.934 - ETA: 6s - loss: 0.1430 - acc: 0.935 - ETA: 6s - loss: 0.1446 - acc: 0.933 - ETA: 5s - loss: 0.1499 - acc: 0.932 - ETA: 5s - loss: 0.1534 - acc: 0.931 - ETA: 5s - loss: 0.1555 - acc: 0.929 - ETA: 4s - loss: 0.1541 - acc: 0.931 - ETA: 4s - loss: 0.1524 - acc: 0.932 - ETA: 4s - loss: 0.1536 - acc: 0.930 - ETA: 3s - loss: 0.1598 - acc: 0.929 - ETA: 3s - loss: 0.1583 - acc: 0.930 - ETA: 3s - loss: 0.1591 - acc: 0.929 - ETA: 2s - loss: 0.1574 - acc: 0.930 - ETA: 2s - loss: 0.1565 - acc: 0.930 - ETA: 1s - loss: 0.1550 - acc: 0.931 - ETA: 1s - loss: 0.1541 - acc: 0.932 - ETA: 1s - loss: 0.1544 - acc: 0.932 - ETA: 0s - loss: 0.1560 - acc: 0.931 - ETA: 0s - loss: 0.1595 - acc: 0.930 - 29s 22ms/step - loss: 0.1603 - acc: 0.9299 - val_loss: 0.3343 - val_acc: 0.8415\n",
      "Epoch 5/10\n",
      "1312/1312 [==============================] - ETA: 27s - loss: 0.0793 - acc: 1.00 - ETA: 26s - loss: 0.1078 - acc: 0.95 - ETA: 25s - loss: 0.1166 - acc: 0.95 - ETA: 26s - loss: 0.1500 - acc: 0.93 - ETA: 26s - loss: 0.1732 - acc: 0.93 - ETA: 27s - loss: 0.1527 - acc: 0.94 - ETA: 26s - loss: 0.1637 - acc: 0.93 - ETA: 26s - loss: 0.1637 - acc: 0.93 - ETA: 25s - loss: 0.1895 - acc: 0.93 - ETA: 25s - loss: 0.1938 - acc: 0.93 - ETA: 24s - loss: 0.1845 - acc: 0.93 - ETA: 23s - loss: 0.1850 - acc: 0.93 - ETA: 22s - loss: 0.1825 - acc: 0.93 - ETA: 22s - loss: 0.1734 - acc: 0.93 - ETA: 21s - loss: 0.1766 - acc: 0.94 - ETA: 21s - loss: 0.1686 - acc: 0.94 - ETA: 20s - loss: 0.1627 - acc: 0.94 - ETA: 20s - loss: 0.1602 - acc: 0.94 - ETA: 19s - loss: 0.1542 - acc: 0.95 - ETA: 19s - loss: 0.1594 - acc: 0.94 - ETA: 18s - loss: 0.1583 - acc: 0.94 - ETA: 18s - loss: 0.1540 - acc: 0.95 - ETA: 17s - loss: 0.1544 - acc: 0.95 - ETA: 17s - loss: 0.1538 - acc: 0.94 - ETA: 16s - loss: 0.1551 - acc: 0.94 - ETA: 16s - loss: 0.1519 - acc: 0.94 - ETA: 15s - loss: 0.1490 - acc: 0.94 - ETA: 15s - loss: 0.1445 - acc: 0.94 - ETA: 14s - loss: 0.1426 - acc: 0.94 - ETA: 14s - loss: 0.1406 - acc: 0.95 - ETA: 14s - loss: 0.1497 - acc: 0.94 - ETA: 13s - loss: 0.1485 - acc: 0.94 - ETA: 13s - loss: 0.1521 - acc: 0.94 - ETA: 12s - loss: 0.1480 - acc: 0.94 - ETA: 12s - loss: 0.1453 - acc: 0.94 - ETA: 12s - loss: 0.1480 - acc: 0.94 - ETA: 11s - loss: 0.1467 - acc: 0.94 - ETA: 11s - loss: 0.1475 - acc: 0.94 - ETA: 10s - loss: 0.1451 - acc: 0.94 - ETA: 10s - loss: 0.1448 - acc: 0.94 - ETA: 10s - loss: 0.1444 - acc: 0.94 - ETA: 9s - loss: 0.1438 - acc: 0.9452 - ETA: 9s - loss: 0.1452 - acc: 0.944 - ETA: 8s - loss: 0.1443 - acc: 0.944 - ETA: 8s - loss: 0.1416 - acc: 0.945 - ETA: 7s - loss: 0.1390 - acc: 0.946 - ETA: 7s - loss: 0.1395 - acc: 0.946 - ETA: 7s - loss: 0.1370 - acc: 0.947 - ETA: 6s - loss: 0.1391 - acc: 0.946 - ETA: 6s - loss: 0.1401 - acc: 0.946 - ETA: 5s - loss: 0.1428 - acc: 0.944 - ETA: 5s - loss: 0.1426 - acc: 0.945 - ETA: 5s - loss: 0.1410 - acc: 0.946 - ETA: 4s - loss: 0.1402 - acc: 0.946 - ETA: 4s - loss: 0.1395 - acc: 0.945 - ETA: 3s - loss: 0.1397 - acc: 0.945 - ETA: 3s - loss: 0.1379 - acc: 0.946 - ETA: 3s - loss: 0.1460 - acc: 0.944 - ETA: 2s - loss: 0.1465 - acc: 0.943 - ETA: 2s - loss: 0.1457 - acc: 0.943 - ETA: 1s - loss: 0.1459 - acc: 0.942 - ETA: 1s - loss: 0.1470 - acc: 0.941 - ETA: 1s - loss: 0.1464 - acc: 0.941 - ETA: 0s - loss: 0.1461 - acc: 0.942 - ETA: 0s - loss: 0.1476 - acc: 0.940 - 28s 21ms/step - loss: 0.1474 - acc: 0.9405 - val_loss: 0.3305 - val_acc: 0.8659\n",
      "Epoch 6/10\n",
      "1312/1312 [==============================] - ETA: 27s - loss: 0.2137 - acc: 0.90 - ETA: 25s - loss: 0.1339 - acc: 0.95 - ETA: 25s - loss: 0.1097 - acc: 0.96 - ETA: 24s - loss: 0.1207 - acc: 0.95 - ETA: 24s - loss: 0.1712 - acc: 0.93 - ETA: 24s - loss: 0.1655 - acc: 0.93 - ETA: 23s - loss: 0.1559 - acc: 0.93 - ETA: 23s - loss: 0.1497 - acc: 0.94 - ETA: 22s - loss: 0.1391 - acc: 0.95 - ETA: 21s - loss: 0.1390 - acc: 0.94 - ETA: 21s - loss: 0.1302 - acc: 0.95 - ETA: 21s - loss: 0.1281 - acc: 0.95 - ETA: 21s - loss: 0.1248 - acc: 0.95 - ETA: 20s - loss: 0.1246 - acc: 0.95 - ETA: 19s - loss: 0.1384 - acc: 0.94 - ETA: 19s - loss: 0.1404 - acc: 0.94 - ETA: 19s - loss: 0.1415 - acc: 0.94 - ETA: 18s - loss: 0.1392 - acc: 0.94 - ETA: 18s - loss: 0.1361 - acc: 0.94 - ETA: 17s - loss: 0.1522 - acc: 0.94 - ETA: 17s - loss: 0.1493 - acc: 0.94 - ETA: 16s - loss: 0.1449 - acc: 0.94 - ETA: 16s - loss: 0.1482 - acc: 0.94 - ETA: 16s - loss: 0.1437 - acc: 0.94 - ETA: 16s - loss: 0.1470 - acc: 0.94 - ETA: 15s - loss: 0.1446 - acc: 0.94 - ETA: 15s - loss: 0.1399 - acc: 0.94 - ETA: 15s - loss: 0.1362 - acc: 0.94 - ETA: 14s - loss: 0.1358 - acc: 0.94 - ETA: 14s - loss: 0.1352 - acc: 0.94 - ETA: 14s - loss: 0.1319 - acc: 0.94 - ETA: 13s - loss: 0.1321 - acc: 0.94 - ETA: 13s - loss: 0.1287 - acc: 0.94 - ETA: 12s - loss: 0.1290 - acc: 0.94 - ETA: 12s - loss: 0.1304 - acc: 0.94 - ETA: 11s - loss: 0.1317 - acc: 0.94 - ETA: 11s - loss: 0.1321 - acc: 0.94 - ETA: 10s - loss: 0.1301 - acc: 0.94 - ETA: 10s - loss: 0.1322 - acc: 0.94 - ETA: 10s - loss: 0.1314 - acc: 0.94 - ETA: 9s - loss: 0.1295 - acc: 0.9488 - ETA: 9s - loss: 0.1311 - acc: 0.948 - ETA: 8s - loss: 0.1301 - acc: 0.948 - ETA: 8s - loss: 0.1297 - acc: 0.948 - ETA: 8s - loss: 0.1278 - acc: 0.950 - ETA: 7s - loss: 0.1260 - acc: 0.951 - ETA: 7s - loss: 0.1250 - acc: 0.951 - ETA: 6s - loss: 0.1279 - acc: 0.950 - ETA: 6s - loss: 0.1273 - acc: 0.950 - ETA: 6s - loss: 0.1259 - acc: 0.951 - ETA: 5s - loss: 0.1271 - acc: 0.951 - ETA: 5s - loss: 0.1277 - acc: 0.950 - ETA: 4s - loss: 0.1265 - acc: 0.950 - ETA: 4s - loss: 0.1245 - acc: 0.950 - ETA: 4s - loss: 0.1225 - acc: 0.951 - ETA: 3s - loss: 0.1249 - acc: 0.950 - ETA: 3s - loss: 0.1227 - acc: 0.951 - ETA: 2s - loss: 0.1230 - acc: 0.951 - ETA: 2s - loss: 0.1224 - acc: 0.951 - ETA: 2s - loss: 0.1217 - acc: 0.951 - ETA: 1s - loss: 0.1209 - acc: 0.951 - ETA: 1s - loss: 0.1247 - acc: 0.950 - ETA: 0s - loss: 0.1257 - acc: 0.948 - ETA: 0s - loss: 0.1247 - acc: 0.949 - ETA: 0s - loss: 0.1249 - acc: 0.949 - 27s 21ms/step - loss: 0.1250 - acc: 0.9497 - val_loss: 0.3287 - val_acc: 0.8841\n",
      "Epoch 7/10\n"
     ]
    },
    {
     "name": "stdout",
     "output_type": "stream",
     "text": [
      "1312/1312 [==============================] - ETA: 29s - loss: 0.1563 - acc: 0.95 - ETA: 26s - loss: 0.1135 - acc: 0.95 - ETA: 24s - loss: 0.1062 - acc: 0.95 - ETA: 24s - loss: 0.1238 - acc: 0.93 - ETA: 23s - loss: 0.1461 - acc: 0.93 - ETA: 23s - loss: 0.1327 - acc: 0.93 - ETA: 23s - loss: 0.1220 - acc: 0.94 - ETA: 22s - loss: 0.1138 - acc: 0.95 - ETA: 21s - loss: 0.1040 - acc: 0.95 - ETA: 21s - loss: 0.0968 - acc: 0.96 - ETA: 20s - loss: 0.0983 - acc: 0.95 - ETA: 20s - loss: 0.1090 - acc: 0.95 - ETA: 19s - loss: 0.1020 - acc: 0.95 - ETA: 19s - loss: 0.1009 - acc: 0.96 - ETA: 19s - loss: 0.1072 - acc: 0.95 - ETA: 18s - loss: 0.1226 - acc: 0.94 - ETA: 18s - loss: 0.1230 - acc: 0.94 - ETA: 17s - loss: 0.1192 - acc: 0.94 - ETA: 17s - loss: 0.1192 - acc: 0.94 - ETA: 17s - loss: 0.1199 - acc: 0.94 - ETA: 16s - loss: 0.1170 - acc: 0.94 - ETA: 16s - loss: 0.1120 - acc: 0.94 - ETA: 15s - loss: 0.1109 - acc: 0.94 - ETA: 15s - loss: 0.1106 - acc: 0.94 - ETA: 14s - loss: 0.1081 - acc: 0.95 - ETA: 14s - loss: 0.1062 - acc: 0.95 - ETA: 14s - loss: 0.1108 - acc: 0.94 - ETA: 13s - loss: 0.1071 - acc: 0.95 - ETA: 13s - loss: 0.1037 - acc: 0.95 - ETA: 12s - loss: 0.1037 - acc: 0.95 - ETA: 12s - loss: 0.1023 - acc: 0.95 - ETA: 12s - loss: 0.1005 - acc: 0.95 - ETA: 11s - loss: 0.0978 - acc: 0.95 - ETA: 11s - loss: 0.0968 - acc: 0.95 - ETA: 11s - loss: 0.0956 - acc: 0.95 - ETA: 10s - loss: 0.0944 - acc: 0.95 - ETA: 10s - loss: 0.0942 - acc: 0.95 - ETA: 9s - loss: 0.0928 - acc: 0.9592 - ETA: 9s - loss: 0.0975 - acc: 0.957 - ETA: 9s - loss: 0.0973 - acc: 0.958 - ETA: 8s - loss: 0.0971 - acc: 0.959 - ETA: 8s - loss: 0.0973 - acc: 0.960 - ETA: 8s - loss: 0.0967 - acc: 0.961 - ETA: 7s - loss: 0.0973 - acc: 0.961 - ETA: 7s - loss: 0.1007 - acc: 0.960 - ETA: 7s - loss: 0.0991 - acc: 0.960 - ETA: 6s - loss: 0.0978 - acc: 0.961 - ETA: 6s - loss: 0.0979 - acc: 0.961 - ETA: 5s - loss: 0.0966 - acc: 0.962 - ETA: 5s - loss: 0.0975 - acc: 0.962 - ETA: 5s - loss: 0.1022 - acc: 0.958 - ETA: 4s - loss: 0.1043 - acc: 0.956 - ETA: 4s - loss: 0.1033 - acc: 0.957 - ETA: 4s - loss: 0.1034 - acc: 0.957 - ETA: 3s - loss: 0.1027 - acc: 0.958 - ETA: 3s - loss: 0.1033 - acc: 0.957 - ETA: 3s - loss: 0.1024 - acc: 0.957 - ETA: 2s - loss: 0.1036 - acc: 0.956 - ETA: 2s - loss: 0.1035 - acc: 0.955 - ETA: 2s - loss: 0.1033 - acc: 0.955 - ETA: 1s - loss: 0.1020 - acc: 0.956 - ETA: 1s - loss: 0.1034 - acc: 0.956 - ETA: 0s - loss: 0.1047 - acc: 0.955 - ETA: 0s - loss: 0.1045 - acc: 0.955 - ETA: 0s - loss: 0.1096 - acc: 0.954 - 25s 19ms/step - loss: 0.1095 - acc: 0.9550 - val_loss: 0.4037 - val_acc: 0.8598\n",
      "Epoch 8/10\n",
      "1312/1312 [==============================] - ETA: 22s - loss: 0.2305 - acc: 0.95 - ETA: 21s - loss: 0.1509 - acc: 0.97 - ETA: 21s - loss: 0.1053 - acc: 0.98 - ETA: 21s - loss: 0.1475 - acc: 0.96 - ETA: 20s - loss: 0.1194 - acc: 0.97 - ETA: 20s - loss: 0.1349 - acc: 0.95 - ETA: 20s - loss: 0.1228 - acc: 0.96 - ETA: 19s - loss: 0.1203 - acc: 0.96 - ETA: 19s - loss: 0.1120 - acc: 0.96 - ETA: 19s - loss: 0.1104 - acc: 0.95 - ETA: 18s - loss: 0.1081 - acc: 0.95 - ETA: 18s - loss: 0.1010 - acc: 0.95 - ETA: 18s - loss: 0.1009 - acc: 0.95 - ETA: 17s - loss: 0.0977 - acc: 0.95 - ETA: 17s - loss: 0.0917 - acc: 0.96 - ETA: 17s - loss: 0.0949 - acc: 0.95 - ETA: 16s - loss: 0.0916 - acc: 0.96 - ETA: 16s - loss: 0.1045 - acc: 0.95 - ETA: 16s - loss: 0.1048 - acc: 0.95 - ETA: 16s - loss: 0.1051 - acc: 0.95 - ETA: 15s - loss: 0.1105 - acc: 0.95 - ETA: 15s - loss: 0.1106 - acc: 0.95 - ETA: 15s - loss: 0.1143 - acc: 0.94 - ETA: 14s - loss: 0.1184 - acc: 0.94 - ETA: 14s - loss: 0.1157 - acc: 0.94 - ETA: 13s - loss: 0.1164 - acc: 0.94 - ETA: 13s - loss: 0.1157 - acc: 0.95 - ETA: 13s - loss: 0.1146 - acc: 0.95 - ETA: 12s - loss: 0.1141 - acc: 0.95 - ETA: 12s - loss: 0.1191 - acc: 0.94 - ETA: 12s - loss: 0.1188 - acc: 0.94 - ETA: 11s - loss: 0.1208 - acc: 0.94 - ETA: 11s - loss: 0.1177 - acc: 0.94 - ETA: 11s - loss: 0.1180 - acc: 0.94 - ETA: 10s - loss: 0.1190 - acc: 0.94 - ETA: 10s - loss: 0.1196 - acc: 0.94 - ETA: 10s - loss: 0.1224 - acc: 0.94 - ETA: 9s - loss: 0.1197 - acc: 0.9461 - ETA: 9s - loss: 0.1174 - acc: 0.947 - ETA: 9s - loss: 0.1157 - acc: 0.948 - ETA: 8s - loss: 0.1157 - acc: 0.948 - ETA: 8s - loss: 0.1142 - acc: 0.950 - ETA: 7s - loss: 0.1139 - acc: 0.950 - ETA: 7s - loss: 0.1141 - acc: 0.950 - ETA: 7s - loss: 0.1125 - acc: 0.951 - ETA: 6s - loss: 0.1118 - acc: 0.951 - ETA: 6s - loss: 0.1101 - acc: 0.952 - ETA: 6s - loss: 0.1099 - acc: 0.952 - ETA: 5s - loss: 0.1138 - acc: 0.949 - ETA: 5s - loss: 0.1118 - acc: 0.950 - ETA: 5s - loss: 0.1137 - acc: 0.948 - ETA: 4s - loss: 0.1130 - acc: 0.949 - ETA: 4s - loss: 0.1122 - acc: 0.949 - ETA: 4s - loss: 0.1148 - acc: 0.948 - ETA: 3s - loss: 0.1156 - acc: 0.947 - ETA: 3s - loss: 0.1180 - acc: 0.945 - ETA: 3s - loss: 0.1164 - acc: 0.946 - ETA: 2s - loss: 0.1152 - acc: 0.947 - ETA: 2s - loss: 0.1149 - acc: 0.947 - ETA: 1s - loss: 0.1147 - acc: 0.946 - ETA: 1s - loss: 0.1139 - acc: 0.946 - ETA: 1s - loss: 0.1131 - acc: 0.947 - ETA: 0s - loss: 0.1132 - acc: 0.947 - ETA: 0s - loss: 0.1123 - acc: 0.948 - ETA: 0s - loss: 0.1133 - acc: 0.947 - 26s 19ms/step - loss: 0.1123 - acc: 0.9482 - val_loss: 0.3512 - val_acc: 0.8720\n",
      "Epoch 9/10\n",
      "1312/1312 [==============================] - ETA: 25s - loss: 0.0911 - acc: 0.95 - ETA: 24s - loss: 0.0477 - acc: 0.97 - ETA: 23s - loss: 0.0603 - acc: 0.96 - ETA: 23s - loss: 0.0597 - acc: 0.97 - ETA: 23s - loss: 0.0817 - acc: 0.96 - ETA: 22s - loss: 0.0962 - acc: 0.95 - ETA: 22s - loss: 0.0961 - acc: 0.95 - ETA: 22s - loss: 0.0899 - acc: 0.95 - ETA: 21s - loss: 0.0831 - acc: 0.96 - ETA: 21s - loss: 0.0760 - acc: 0.96 - ETA: 21s - loss: 0.0780 - acc: 0.96 - ETA: 20s - loss: 0.0758 - acc: 0.96 - ETA: 20s - loss: 0.0800 - acc: 0.95 - ETA: 19s - loss: 0.0775 - acc: 0.95 - ETA: 19s - loss: 0.0737 - acc: 0.96 - ETA: 19s - loss: 0.0734 - acc: 0.96 - ETA: 18s - loss: 0.0745 - acc: 0.96 - ETA: 18s - loss: 0.0730 - acc: 0.96 - ETA: 17s - loss: 0.0718 - acc: 0.96 - ETA: 17s - loss: 0.0711 - acc: 0.96 - ETA: 17s - loss: 0.0766 - acc: 0.95 - ETA: 16s - loss: 0.0763 - acc: 0.95 - ETA: 16s - loss: 0.0809 - acc: 0.95 - ETA: 16s - loss: 0.0789 - acc: 0.96 - ETA: 15s - loss: 0.0779 - acc: 0.96 - ETA: 15s - loss: 0.0769 - acc: 0.96 - ETA: 14s - loss: 0.0768 - acc: 0.96 - ETA: 14s - loss: 0.0764 - acc: 0.96 - ETA: 14s - loss: 0.0752 - acc: 0.96 - ETA: 13s - loss: 0.0751 - acc: 0.96 - ETA: 13s - loss: 0.0786 - acc: 0.96 - ETA: 12s - loss: 0.0786 - acc: 0.96 - ETA: 12s - loss: 0.0771 - acc: 0.96 - ETA: 12s - loss: 0.0809 - acc: 0.96 - ETA: 11s - loss: 0.0789 - acc: 0.96 - ETA: 11s - loss: 0.0775 - acc: 0.96 - ETA: 11s - loss: 0.0773 - acc: 0.96 - ETA: 10s - loss: 0.0771 - acc: 0.96 - ETA: 10s - loss: 0.0813 - acc: 0.96 - ETA: 10s - loss: 0.0840 - acc: 0.96 - ETA: 9s - loss: 0.0841 - acc: 0.9659 - ETA: 9s - loss: 0.0837 - acc: 0.966 - ETA: 8s - loss: 0.0824 - acc: 0.967 - ETA: 8s - loss: 0.0855 - acc: 0.967 - ETA: 8s - loss: 0.0838 - acc: 0.967 - ETA: 7s - loss: 0.0876 - acc: 0.967 - ETA: 7s - loss: 0.0868 - acc: 0.967 - ETA: 6s - loss: 0.0906 - acc: 0.964 - ETA: 6s - loss: 0.0933 - acc: 0.963 - ETA: 6s - loss: 0.0918 - acc: 0.964 - ETA: 5s - loss: 0.0900 - acc: 0.964 - ETA: 5s - loss: 0.0886 - acc: 0.965 - ETA: 4s - loss: 0.0889 - acc: 0.965 - ETA: 4s - loss: 0.0884 - acc: 0.965 - ETA: 4s - loss: 0.0908 - acc: 0.963 - ETA: 3s - loss: 0.0926 - acc: 0.962 - ETA: 3s - loss: 0.0919 - acc: 0.962 - ETA: 2s - loss: 0.0927 - acc: 0.961 - ETA: 2s - loss: 0.0927 - acc: 0.961 - ETA: 2s - loss: 0.0941 - acc: 0.960 - ETA: 1s - loss: 0.0939 - acc: 0.961 - ETA: 1s - loss: 0.0963 - acc: 0.960 - ETA: 0s - loss: 0.0970 - acc: 0.960 - ETA: 0s - loss: 0.0975 - acc: 0.960 - ETA: 0s - loss: 0.0967 - acc: 0.960 - 27s 20ms/step - loss: 0.0971 - acc: 0.9604 - val_loss: 0.3756 - val_acc: 0.8720\n",
      "Epoch 10/10\n",
      "1312/1312 [==============================] - ETA: 23s - loss: 0.0296 - acc: 1.00 - ETA: 22s - loss: 0.0624 - acc: 0.97 - ETA: 22s - loss: 0.1056 - acc: 0.95 - ETA: 21s - loss: 0.1117 - acc: 0.95 - ETA: 21s - loss: 0.0912 - acc: 0.96 - ETA: 21s - loss: 0.0894 - acc: 0.95 - ETA: 21s - loss: 0.0804 - acc: 0.96 - ETA: 21s - loss: 0.0868 - acc: 0.95 - ETA: 20s - loss: 0.0795 - acc: 0.96 - ETA: 20s - loss: 0.1041 - acc: 0.95 - ETA: 20s - loss: 0.1106 - acc: 0.95 - ETA: 19s - loss: 0.1037 - acc: 0.95 - ETA: 19s - loss: 0.0983 - acc: 0.96 - ETA: 18s - loss: 0.0918 - acc: 0.96 - ETA: 18s - loss: 0.0913 - acc: 0.96 - ETA: 17s - loss: 0.0970 - acc: 0.95 - ETA: 17s - loss: 0.0986 - acc: 0.95 - ETA: 17s - loss: 0.0969 - acc: 0.95 - ETA: 16s - loss: 0.0960 - acc: 0.96 - ETA: 16s - loss: 0.0933 - acc: 0.96 - ETA: 15s - loss: 0.0939 - acc: 0.96 - ETA: 15s - loss: 0.0904 - acc: 0.96 - ETA: 15s - loss: 0.0900 - acc: 0.96 - ETA: 14s - loss: 0.0945 - acc: 0.96 - ETA: 14s - loss: 0.0934 - acc: 0.96 - ETA: 13s - loss: 0.0901 - acc: 0.96 - ETA: 13s - loss: 0.0876 - acc: 0.96 - ETA: 13s - loss: 0.0862 - acc: 0.96 - ETA: 12s - loss: 0.0843 - acc: 0.96 - ETA: 12s - loss: 0.0823 - acc: 0.96 - ETA: 12s - loss: 0.0801 - acc: 0.96 - ETA: 11s - loss: 0.0788 - acc: 0.96 - ETA: 11s - loss: 0.0798 - acc: 0.96 - ETA: 11s - loss: 0.0832 - acc: 0.96 - ETA: 10s - loss: 0.0821 - acc: 0.96 - ETA: 10s - loss: 0.0816 - acc: 0.96 - ETA: 10s - loss: 0.0826 - acc: 0.96 - ETA: 9s - loss: 0.0809 - acc: 0.9658 - ETA: 9s - loss: 0.0789 - acc: 0.966 - ETA: 9s - loss: 0.0774 - acc: 0.967 - ETA: 8s - loss: 0.0761 - acc: 0.968 - ETA: 8s - loss: 0.0747 - acc: 0.969 - ETA: 7s - loss: 0.0731 - acc: 0.969 - ETA: 7s - loss: 0.0758 - acc: 0.967 - ETA: 7s - loss: 0.0772 - acc: 0.965 - ETA: 6s - loss: 0.0763 - acc: 0.966 - ETA: 6s - loss: 0.0752 - acc: 0.967 - ETA: 6s - loss: 0.0747 - acc: 0.966 - ETA: 5s - loss: 0.0754 - acc: 0.965 - ETA: 5s - loss: 0.0750 - acc: 0.965 - ETA: 5s - loss: 0.0797 - acc: 0.963 - ETA: 4s - loss: 0.0806 - acc: 0.963 - ETA: 4s - loss: 0.0849 - acc: 0.961 - ETA: 4s - loss: 0.0837 - acc: 0.962 - ETA: 3s - loss: 0.0838 - acc: 0.961 - ETA: 3s - loss: 0.0841 - acc: 0.961 - ETA: 3s - loss: 0.0878 - acc: 0.958 - ETA: 2s - loss: 0.0885 - acc: 0.958 - ETA: 2s - loss: 0.0891 - acc: 0.958 - ETA: 1s - loss: 0.0887 - acc: 0.959 - ETA: 1s - loss: 0.0873 - acc: 0.959 - ETA: 1s - loss: 0.0880 - acc: 0.959 - ETA: 0s - loss: 0.0876 - acc: 0.959 - ETA: 0s - loss: 0.0882 - acc: 0.958 - ETA: 0s - loss: 0.0881 - acc: 0.958 - 25s 19ms/step - loss: 0.0881 - acc: 0.9581 - val_loss: 0.4476 - val_acc: 0.8598\n"
     ]
    },
    {
     "data": {
      "text/plain": [
       "<keras.callbacks.History at 0x234a3d1c080>"
      ]
     },
     "execution_count": 9,
     "metadata": {},
     "output_type": "execute_result"
    }
   ],
   "source": [
    "#Create the model (convolutive and dense layers)\n",
    "\n",
    "img_in = Input(shape=(190, 250, 3), name='img_in')\n",
    "x = img_in\n",
    "\n",
    "x = Convolution2D(1, 3, 3, activation='relu', border_mode='same')(x)\n",
    "x = MaxPooling2D(pool_size=(2, 2), strides=(2,2))(x)\n",
    "\n",
    "x = Convolution2D(2, 3, 3, activation='relu', border_mode='same')(x)\n",
    "x = MaxPooling2D(pool_size=(2, 2), strides=(2,2))(x)\n",
    "\n",
    "x = Convolution2D(2, 3, 3, activation='relu', border_mode='same')(x)\n",
    "x = MaxPooling2D(pool_size=(2, 2), strides=(2,2))(x)\n",
    "\n",
    "x = Convolution2D(4, 3, 3, activation='relu', border_mode='same')(x)\n",
    "x = MaxPooling2D(pool_size=(2, 2), strides=(2,2))(x)\n",
    "\n",
    "flat = Flatten()(x)\n",
    "\n",
    "x = Dense(20)(flat)\n",
    "x = Activation('relu')(x)\n",
    "\n",
    "x = Dense(5)(x)\n",
    "angle_out = Activation('softmax')(x)\n",
    "\n",
    "model = Model(input=[img_in], output=[angle_out])\n",
    "model.compile(optimizer='adam', loss='categorical_crossentropy', metrics=['accuracy'])\n",
    "\n",
    "model.fit([train_X], train_Y, batch_size=20, nb_epoch=20, validation_data=([val_X], val_Y))"
   ]
  },
  {
   "cell_type": "code",
   "execution_count": 10,
   "metadata": {},
   "outputs": [],
   "source": [
    "#upload new pictures stored in 'pat' to test the model predictions on it (after this function, they are ready to be analyzed by\n",
    "# model.predict() )\n",
    "\n",
    "def selectedTest(pat):\n",
    "    \n",
    "    if isinstance(pat, str):\n",
    "        paths = [pat]\n",
    "    \n",
    "    images = []\n",
    "\n",
    "    for path in paths:\n",
    "        print(path)\n",
    "        for image_file in tqdm(os.listdir(path)):\n",
    "            \n",
    "            print(os.listdir(path))\n",
    "            if '.jpg' not in image_file: continue\n",
    "            try:\n",
    "                img = imread(os.path.join(path, image_file))\n",
    "                print(os.path.join(path, image_file))\n",
    "                if img is not None:\n",
    "                    images.append(img[:, :])\n",
    "                    \n",
    "            except Exception as e:\n",
    "                pass\n",
    "\n",
    "    images = np.array(images)\n",
    "    \n",
    "    return images.astype('float32') / 255."
   ]
  },
  {
   "cell_type": "code",
   "execution_count": 23,
   "metadata": {},
   "outputs": [
    {
     "name": "stdout",
     "output_type": "stream",
     "text": [
      "selectTest\n"
     ]
    },
    {
     "name": "stderr",
     "output_type": "stream",
     "text": [
      "\r",
      "  0%|          | 0/30 [00:00<?, ?it/s]"
     ]
    },
    {
     "name": "stdout",
     "output_type": "stream",
     "text": [
      "['image01.jpg', 'image02.jpg', 'image03.jpg', 'image04.jpg', 'image05.jpg', 'image06.jpg', 'image07.jpg', 'image08.jpg', 'image09.jpg', 'image10.jpg', 'image11.jpg', 'image12.jpg', 'image13.jpg', 'image14.jpg', 'image15.jpg', 'image16.jpg', 'image17.jpg', 'image18.jpg', 'image19.jpg', 'image20.jpg', 'image21.jpg', 'image22.jpg', 'image23.jpg', 'image24.jpg', 'image25.jpg', 'image26.jpg', 'image27.jpg', 'image28.jpg', 'image29.jpg', 'image30.jpg']\n"
     ]
    },
    {
     "name": "stderr",
     "output_type": "stream",
     "text": [
      "C:\\Users\\Baptiste\\Anaconda3\\lib\\site-packages\\ipykernel_launcher.py:15: DeprecationWarning: `imread` is deprecated!\n",
      "`imread` is deprecated in SciPy 1.0.0, and will be removed in 1.2.0.\n",
      "Use ``imageio.imread`` instead.\n",
      "  from ipykernel import kernelapp as app\n"
     ]
    },
    {
     "name": "stdout",
     "output_type": "stream",
     "text": [
      "selectTest\\image01.jpg\n"
     ]
    },
    {
     "name": "stderr",
     "output_type": "stream",
     "text": [
      "\r",
      "  3%|▎         | 1/30 [00:00<00:24,  1.18it/s]"
     ]
    },
    {
     "name": "stdout",
     "output_type": "stream",
     "text": [
      "['image01.jpg', 'image02.jpg', 'image03.jpg', 'image04.jpg', 'image05.jpg', 'image06.jpg', 'image07.jpg', 'image08.jpg', 'image09.jpg', 'image10.jpg', 'image11.jpg', 'image12.jpg', 'image13.jpg', 'image14.jpg', 'image15.jpg', 'image16.jpg', 'image17.jpg', 'image18.jpg', 'image19.jpg', 'image20.jpg', 'image21.jpg', 'image22.jpg', 'image23.jpg', 'image24.jpg', 'image25.jpg', 'image26.jpg', 'image27.jpg', 'image28.jpg', 'image29.jpg', 'image30.jpg']\n",
      "selectTest\\image02.jpg\n",
      "['image01.jpg', 'image02.jpg', 'image03.jpg', 'image04.jpg', 'image05.jpg', 'image06.jpg', 'image07.jpg', 'image08.jpg', 'image09.jpg', 'image10.jpg', 'image11.jpg', 'image12.jpg', 'image13.jpg', 'image14.jpg', 'image15.jpg', 'image16.jpg', 'image17.jpg', 'image18.jpg', 'image19.jpg', 'image20.jpg', 'image21.jpg', 'image22.jpg', 'image23.jpg', 'image24.jpg', 'image25.jpg', 'image26.jpg', 'image27.jpg', 'image28.jpg', 'image29.jpg', 'image30.jpg']\n",
      "selectTest\\image03.jpg\n",
      "['image01.jpg', 'image02.jpg', 'image03.jpg', 'image04.jpg', 'image05.jpg', 'image06.jpg', 'image07.jpg', 'image08.jpg', 'image09.jpg', 'image10.jpg', 'image11.jpg', 'image12.jpg', 'image13.jpg', 'image14.jpg', 'image15.jpg', 'image16.jpg', 'image17.jpg', 'image18.jpg', 'image19.jpg', 'image20.jpg', 'image21.jpg', 'image22.jpg', 'image23.jpg', 'image24.jpg', 'image25.jpg', 'image26.jpg', 'image27.jpg', 'image28.jpg', 'image29.jpg', 'image30.jpg']\n",
      "selectTest\\image04.jpg\n",
      "['image01.jpg', 'image02.jpg', 'image03.jpg', 'image04.jpg', 'image05.jpg', 'image06.jpg', 'image07.jpg', 'image08.jpg', 'image09.jpg', 'image10.jpg', 'image11.jpg', 'image12.jpg', 'image13.jpg', 'image14.jpg', 'image15.jpg', 'image16.jpg', 'image17.jpg', 'image18.jpg', 'image19.jpg', 'image20.jpg', 'image21.jpg', 'image22.jpg', 'image23.jpg', 'image24.jpg', 'image25.jpg', 'image26.jpg', 'image27.jpg', 'image28.jpg', 'image29.jpg', 'image30.jpg']\n",
      "selectTest\\image05.jpg\n",
      "['image01.jpg', 'image02.jpg', 'image03.jpg', 'image04.jpg', 'image05.jpg', 'image06.jpg', 'image07.jpg', 'image08.jpg', 'image09.jpg', 'image10.jpg', 'image11.jpg', 'image12.jpg', 'image13.jpg', 'image14.jpg', 'image15.jpg', 'image16.jpg', 'image17.jpg', 'image18.jpg', 'image19.jpg', 'image20.jpg', 'image21.jpg', 'image22.jpg', 'image23.jpg', 'image24.jpg', 'image25.jpg', 'image26.jpg', 'image27.jpg', 'image28.jpg', 'image29.jpg', 'image30.jpg']\n",
      "selectTest\\image06.jpg\n",
      "['image01.jpg', 'image02.jpg', 'image03.jpg', 'image04.jpg', 'image05.jpg', 'image06.jpg', 'image07.jpg', 'image08.jpg', 'image09.jpg', 'image10.jpg', 'image11.jpg', 'image12.jpg', 'image13.jpg', 'image14.jpg', 'image15.jpg', 'image16.jpg', 'image17.jpg', 'image18.jpg', 'image19.jpg', 'image20.jpg', 'image21.jpg', 'image22.jpg', 'image23.jpg', 'image24.jpg', 'image25.jpg', 'image26.jpg', 'image27.jpg', 'image28.jpg', 'image29.jpg', 'image30.jpg']\n",
      "selectTest\\image07.jpg\n"
     ]
    },
    {
     "name": "stderr",
     "output_type": "stream",
     "text": [
      "\r",
      " 23%|██▎       | 7/30 [00:00<00:13,  1.67it/s]"
     ]
    },
    {
     "name": "stdout",
     "output_type": "stream",
     "text": [
      "['image01.jpg', 'image02.jpg', 'image03.jpg', 'image04.jpg', 'image05.jpg', 'image06.jpg', 'image07.jpg', 'image08.jpg', 'image09.jpg', 'image10.jpg', 'image11.jpg', 'image12.jpg', 'image13.jpg', 'image14.jpg', 'image15.jpg', 'image16.jpg', 'image17.jpg', 'image18.jpg', 'image19.jpg', 'image20.jpg', 'image21.jpg', 'image22.jpg', 'image23.jpg', 'image24.jpg', 'image25.jpg', 'image26.jpg', 'image27.jpg', 'image28.jpg', 'image29.jpg', 'image30.jpg']\n",
      "selectTest\\image08.jpg\n",
      "['image01.jpg', 'image02.jpg', 'image03.jpg', 'image04.jpg', 'image05.jpg', 'image06.jpg', 'image07.jpg', 'image08.jpg', 'image09.jpg', 'image10.jpg', 'image11.jpg', 'image12.jpg', 'image13.jpg', 'image14.jpg', 'image15.jpg', 'image16.jpg', 'image17.jpg', 'image18.jpg', 'image19.jpg', 'image20.jpg', 'image21.jpg', 'image22.jpg', 'image23.jpg', 'image24.jpg', 'image25.jpg', 'image26.jpg', 'image27.jpg', 'image28.jpg', 'image29.jpg', 'image30.jpg']\n",
      "selectTest\\image09.jpg\n",
      "['image01.jpg', 'image02.jpg', 'image03.jpg', 'image04.jpg', 'image05.jpg', 'image06.jpg', 'image07.jpg', 'image08.jpg', 'image09.jpg', 'image10.jpg', 'image11.jpg', 'image12.jpg', 'image13.jpg', 'image14.jpg', 'image15.jpg', 'image16.jpg', 'image17.jpg', 'image18.jpg', 'image19.jpg', 'image20.jpg', 'image21.jpg', 'image22.jpg', 'image23.jpg', 'image24.jpg', 'image25.jpg', 'image26.jpg', 'image27.jpg', 'image28.jpg', 'image29.jpg', 'image30.jpg']\n",
      "selectTest\\image10.jpg\n",
      "['image01.jpg', 'image02.jpg', 'image03.jpg', 'image04.jpg', 'image05.jpg', 'image06.jpg', 'image07.jpg', 'image08.jpg', 'image09.jpg', 'image10.jpg', 'image11.jpg', 'image12.jpg', 'image13.jpg', 'image14.jpg', 'image15.jpg', 'image16.jpg', 'image17.jpg', 'image18.jpg', 'image19.jpg', 'image20.jpg', 'image21.jpg', 'image22.jpg', 'image23.jpg', 'image24.jpg', 'image25.jpg', 'image26.jpg', 'image27.jpg', 'image28.jpg', 'image29.jpg', 'image30.jpg']\n",
      "selectTest\\image11.jpg\n",
      "['image01.jpg', 'image02.jpg', 'image03.jpg', 'image04.jpg', 'image05.jpg', 'image06.jpg', 'image07.jpg', 'image08.jpg', 'image09.jpg', 'image10.jpg', 'image11.jpg', 'image12.jpg', 'image13.jpg', 'image14.jpg', 'image15.jpg', 'image16.jpg', 'image17.jpg', 'image18.jpg', 'image19.jpg', 'image20.jpg', 'image21.jpg', 'image22.jpg', 'image23.jpg', 'image24.jpg', 'image25.jpg', 'image26.jpg', 'image27.jpg', 'image28.jpg', 'image29.jpg', 'image30.jpg']\n",
      "selectTest\\image12.jpg\n",
      "['image01.jpg', 'image02.jpg', 'image03.jpg', 'image04.jpg', 'image05.jpg', 'image06.jpg', 'image07.jpg', 'image08.jpg', 'image09.jpg', 'image10.jpg', 'image11.jpg', 'image12.jpg', 'image13.jpg', 'image14.jpg', 'image15.jpg', 'image16.jpg', 'image17.jpg', 'image18.jpg', 'image19.jpg', 'image20.jpg', 'image21.jpg', 'image22.jpg', 'image23.jpg', 'image24.jpg', 'image25.jpg', 'image26.jpg', 'image27.jpg', 'image28.jpg', 'image29.jpg', 'image30.jpg']\n",
      "selectTest\\image13.jpg\n",
      "['image01.jpg', 'image02.jpg', 'image03.jpg', 'image04.jpg', 'image05.jpg', 'image06.jpg', 'image07.jpg', 'image08.jpg', 'image09.jpg', 'image10.jpg', 'image11.jpg', 'image12.jpg', 'image13.jpg', 'image14.jpg', 'image15.jpg', 'image16.jpg', 'image17.jpg', 'image18.jpg', 'image19.jpg', 'image20.jpg', 'image21.jpg', 'image22.jpg', 'image23.jpg', 'image24.jpg', 'image25.jpg', 'image26.jpg', 'image27.jpg', 'image28.jpg', 'image29.jpg', 'image30.jpg']\n",
      "selectTest\\image14.jpg\n",
      "['image01.jpg', 'image02.jpg', 'image03.jpg', 'image04.jpg', 'image05.jpg', 'image06.jpg', 'image07.jpg', 'image08.jpg', 'image09.jpg', 'image10.jpg', 'image11.jpg', 'image12.jpg', 'image13.jpg', 'image14.jpg', 'image15.jpg', 'image16.jpg', 'image17.jpg', 'image18.jpg', 'image19.jpg', 'image20.jpg', 'image21.jpg', 'image22.jpg', 'image23.jpg', 'image24.jpg', 'image25.jpg', 'image26.jpg', 'image27.jpg', 'image28.jpg', 'image29.jpg', 'image30.jpg']\n",
      "selectTest\\image15.jpg\n",
      "['image01.jpg', 'image02.jpg', 'image03.jpg', 'image04.jpg', 'image05.jpg', 'image06.jpg', 'image07.jpg', 'image08.jpg', 'image09.jpg', 'image10.jpg', 'image11.jpg', 'image12.jpg', 'image13.jpg', 'image14.jpg', 'image15.jpg', 'image16.jpg', 'image17.jpg', 'image18.jpg', 'image19.jpg', 'image20.jpg', 'image21.jpg', 'image22.jpg', 'image23.jpg', 'image24.jpg', 'image25.jpg', 'image26.jpg', 'image27.jpg', 'image28.jpg', 'image29.jpg', 'image30.jpg']\n",
      "selectTest\\image16.jpg\n",
      "['image01.jpg', 'image02.jpg', 'image03.jpg', 'image04.jpg', 'image05.jpg', 'image06.jpg', 'image07.jpg', 'image08.jpg', 'image09.jpg', 'image10.jpg', 'image11.jpg', 'image12.jpg', 'image13.jpg', 'image14.jpg', 'image15.jpg', 'image16.jpg', 'image17.jpg', 'image18.jpg', 'image19.jpg', 'image20.jpg', 'image21.jpg', 'image22.jpg', 'image23.jpg', 'image24.jpg', 'image25.jpg', 'image26.jpg', 'image27.jpg', 'image28.jpg', 'image29.jpg', 'image30.jpg']\n",
      "selectTest\\image17.jpg\n",
      "['image01.jpg', 'image02.jpg', 'image03.jpg', 'image04.jpg', 'image05.jpg', 'image06.jpg', 'image07.jpg', 'image08.jpg', 'image09.jpg', 'image10.jpg', 'image11.jpg', 'image12.jpg', 'image13.jpg', 'image14.jpg', 'image15.jpg', 'image16.jpg', 'image17.jpg', 'image18.jpg', 'image19.jpg', 'image20.jpg', 'image21.jpg', 'image22.jpg', 'image23.jpg', 'image24.jpg', 'image25.jpg', 'image26.jpg', 'image27.jpg', 'image28.jpg', 'image29.jpg', 'image30.jpg']\n",
      "selectTest\\image18.jpg\n"
     ]
    },
    {
     "name": "stderr",
     "output_type": "stream",
     "text": [
      "\r",
      " 60%|██████    | 18/30 [00:01<00:05,  2.38it/s]"
     ]
    },
    {
     "name": "stdout",
     "output_type": "stream",
     "text": [
      "['image01.jpg', 'image02.jpg', 'image03.jpg', 'image04.jpg', 'image05.jpg', 'image06.jpg', 'image07.jpg', 'image08.jpg', 'image09.jpg', 'image10.jpg', 'image11.jpg', 'image12.jpg', 'image13.jpg', 'image14.jpg', 'image15.jpg', 'image16.jpg', 'image17.jpg', 'image18.jpg', 'image19.jpg', 'image20.jpg', 'image21.jpg', 'image22.jpg', 'image23.jpg', 'image24.jpg', 'image25.jpg', 'image26.jpg', 'image27.jpg', 'image28.jpg', 'image29.jpg', 'image30.jpg']\n",
      "selectTest\\image19.jpg\n",
      "['image01.jpg', 'image02.jpg', 'image03.jpg', 'image04.jpg', 'image05.jpg', 'image06.jpg', 'image07.jpg', 'image08.jpg', 'image09.jpg', 'image10.jpg', 'image11.jpg', 'image12.jpg', 'image13.jpg', 'image14.jpg', 'image15.jpg', 'image16.jpg', 'image17.jpg', 'image18.jpg', 'image19.jpg', 'image20.jpg', 'image21.jpg', 'image22.jpg', 'image23.jpg', 'image24.jpg', 'image25.jpg', 'image26.jpg', 'image27.jpg', 'image28.jpg', 'image29.jpg', 'image30.jpg']\n",
      "selectTest\\image20.jpg\n",
      "['image01.jpg', 'image02.jpg', 'image03.jpg', 'image04.jpg', 'image05.jpg', 'image06.jpg', 'image07.jpg', 'image08.jpg', 'image09.jpg', 'image10.jpg', 'image11.jpg', 'image12.jpg', 'image13.jpg', 'image14.jpg', 'image15.jpg', 'image16.jpg', 'image17.jpg', 'image18.jpg', 'image19.jpg', 'image20.jpg', 'image21.jpg', 'image22.jpg', 'image23.jpg', 'image24.jpg', 'image25.jpg', 'image26.jpg', 'image27.jpg', 'image28.jpg', 'image29.jpg', 'image30.jpg']\n",
      "selectTest\\image21.jpg\n",
      "['image01.jpg', 'image02.jpg', 'image03.jpg', 'image04.jpg', 'image05.jpg', 'image06.jpg', 'image07.jpg', 'image08.jpg', 'image09.jpg', 'image10.jpg', 'image11.jpg', 'image12.jpg', 'image13.jpg', 'image14.jpg', 'image15.jpg', 'image16.jpg', 'image17.jpg', 'image18.jpg', 'image19.jpg', 'image20.jpg', 'image21.jpg', 'image22.jpg', 'image23.jpg', 'image24.jpg', 'image25.jpg', 'image26.jpg', 'image27.jpg', 'image28.jpg', 'image29.jpg', 'image30.jpg']\n",
      "selectTest\\image22.jpg\n",
      "['image01.jpg', 'image02.jpg', 'image03.jpg', 'image04.jpg', 'image05.jpg', 'image06.jpg', 'image07.jpg', 'image08.jpg', 'image09.jpg', 'image10.jpg', 'image11.jpg', 'image12.jpg', 'image13.jpg', 'image14.jpg', 'image15.jpg', 'image16.jpg', 'image17.jpg', 'image18.jpg', 'image19.jpg', 'image20.jpg', 'image21.jpg', 'image22.jpg', 'image23.jpg', 'image24.jpg', 'image25.jpg', 'image26.jpg', 'image27.jpg', 'image28.jpg', 'image29.jpg', 'image30.jpg']\n",
      "selectTest\\image23.jpg\n",
      "['image01.jpg', 'image02.jpg', 'image03.jpg', 'image04.jpg', 'image05.jpg', 'image06.jpg', 'image07.jpg', 'image08.jpg', 'image09.jpg', 'image10.jpg', 'image11.jpg', 'image12.jpg', 'image13.jpg', 'image14.jpg', 'image15.jpg', 'image16.jpg', 'image17.jpg', 'image18.jpg', 'image19.jpg', 'image20.jpg', 'image21.jpg', 'image22.jpg', 'image23.jpg', 'image24.jpg', 'image25.jpg', 'image26.jpg', 'image27.jpg', 'image28.jpg', 'image29.jpg', 'image30.jpg']\n",
      "selectTest\\image24.jpg\n",
      "['image01.jpg', 'image02.jpg', 'image03.jpg', 'image04.jpg', 'image05.jpg', 'image06.jpg', 'image07.jpg', 'image08.jpg', 'image09.jpg', 'image10.jpg', 'image11.jpg', 'image12.jpg', 'image13.jpg', 'image14.jpg', 'image15.jpg', 'image16.jpg', 'image17.jpg', 'image18.jpg', 'image19.jpg', 'image20.jpg', 'image21.jpg', 'image22.jpg', 'image23.jpg', 'image24.jpg', 'image25.jpg', 'image26.jpg', 'image27.jpg', 'image28.jpg', 'image29.jpg', 'image30.jpg']\n",
      "selectTest\\image25.jpg\n"
     ]
    },
    {
     "name": "stderr",
     "output_type": "stream",
     "text": [
      "\r",
      " 83%|████████▎ | 25/30 [00:01<00:01,  3.34it/s]"
     ]
    },
    {
     "name": "stdout",
     "output_type": "stream",
     "text": [
      "['image01.jpg', 'image02.jpg', 'image03.jpg', 'image04.jpg', 'image05.jpg', 'image06.jpg', 'image07.jpg', 'image08.jpg', 'image09.jpg', 'image10.jpg', 'image11.jpg', 'image12.jpg', 'image13.jpg', 'image14.jpg', 'image15.jpg', 'image16.jpg', 'image17.jpg', 'image18.jpg', 'image19.jpg', 'image20.jpg', 'image21.jpg', 'image22.jpg', 'image23.jpg', 'image24.jpg', 'image25.jpg', 'image26.jpg', 'image27.jpg', 'image28.jpg', 'image29.jpg', 'image30.jpg']\n",
      "selectTest\\image26.jpg\n",
      "['image01.jpg', 'image02.jpg', 'image03.jpg', 'image04.jpg', 'image05.jpg', 'image06.jpg', 'image07.jpg', 'image08.jpg', 'image09.jpg', 'image10.jpg', 'image11.jpg', 'image12.jpg', 'image13.jpg', 'image14.jpg', 'image15.jpg', 'image16.jpg', 'image17.jpg', 'image18.jpg', 'image19.jpg', 'image20.jpg', 'image21.jpg', 'image22.jpg', 'image23.jpg', 'image24.jpg', 'image25.jpg', 'image26.jpg', 'image27.jpg', 'image28.jpg', 'image29.jpg', 'image30.jpg']\n",
      "selectTest\\image27.jpg\n",
      "['image01.jpg', 'image02.jpg', 'image03.jpg', 'image04.jpg', 'image05.jpg', 'image06.jpg', 'image07.jpg', 'image08.jpg', 'image09.jpg', 'image10.jpg', 'image11.jpg', 'image12.jpg', 'image13.jpg', 'image14.jpg', 'image15.jpg', 'image16.jpg', 'image17.jpg', 'image18.jpg', 'image19.jpg', 'image20.jpg', 'image21.jpg', 'image22.jpg', 'image23.jpg', 'image24.jpg', 'image25.jpg', 'image26.jpg', 'image27.jpg', 'image28.jpg', 'image29.jpg', 'image30.jpg']\n",
      "selectTest\\image28.jpg\n",
      "['image01.jpg', 'image02.jpg', 'image03.jpg', 'image04.jpg', 'image05.jpg', 'image06.jpg', 'image07.jpg', 'image08.jpg', 'image09.jpg', 'image10.jpg', 'image11.jpg', 'image12.jpg', 'image13.jpg', 'image14.jpg', 'image15.jpg', 'image16.jpg', 'image17.jpg', 'image18.jpg', 'image19.jpg', 'image20.jpg', 'image21.jpg', 'image22.jpg', 'image23.jpg', 'image24.jpg', 'image25.jpg', 'image26.jpg', 'image27.jpg', 'image28.jpg', 'image29.jpg', 'image30.jpg']\n",
      "selectTest\\image29.jpg\n",
      "['image01.jpg', 'image02.jpg', 'image03.jpg', 'image04.jpg', 'image05.jpg', 'image06.jpg', 'image07.jpg', 'image08.jpg', 'image09.jpg', 'image10.jpg', 'image11.jpg', 'image12.jpg', 'image13.jpg', 'image14.jpg', 'image15.jpg', 'image16.jpg', 'image17.jpg', 'image18.jpg', 'image19.jpg', 'image20.jpg', 'image21.jpg', 'image22.jpg', 'image23.jpg', 'image24.jpg', 'image25.jpg', 'image26.jpg', 'image27.jpg', 'image28.jpg', 'image29.jpg', 'image30.jpg']\n",
      "selectTest\\image30.jpg\n"
     ]
    },
    {
     "name": "stderr",
     "output_type": "stream",
     "text": [
      "100%|██████████| 30/30 [00:01<00:00, 24.42it/s]\n"
     ]
    }
   ],
   "source": [
    "#a new set of pictures from 'selectTest' folder\n",
    "imagesTest = selectedTest('selectTest')"
   ]
  },
  {
   "cell_type": "code",
   "execution_count": 10,
   "metadata": {},
   "outputs": [
    {
     "data": {
      "text/plain": [
       "0.9146341463414634"
      ]
     },
     "execution_count": 10,
     "metadata": {},
     "output_type": "execute_result"
    }
   ],
   "source": [
    "#exact label accuracy in the testing Set (10% of the total pictures)\n",
    "sum([np.argmax(model.predict(test_X[i:i+1]))==np.argmax(test_Y[i]) for i in range(len(test_X))])/len(test_X)"
   ]
  },
  {
   "cell_type": "code",
   "execution_count": 11,
   "metadata": {},
   "outputs": [
    {
     "data": {
      "text/plain": [
       "0.9878048780487805"
      ]
     },
     "execution_count": 11,
     "metadata": {},
     "output_type": "execute_result"
    }
   ],
   "source": [
    "#label equal +- 1 (direction) accuracy in the testing Set (10% of the total pictures)\n",
    "sum([int(abs(np.argmax(model.predict(test_X[i:i+1]))-np.argmax(test_Y[i]))<=1) for i in range(len(test_X))])/len(test_X)"
   ]
  },
  {
   "cell_type": "code",
   "execution_count": 21,
   "metadata": {},
   "outputs": [
    {
     "data": {
      "text/plain": [
       "147"
      ]
     },
     "execution_count": 21,
     "metadata": {},
     "output_type": "execute_result"
    }
   ],
   "source": [
    "len(test_X)"
   ]
  },
  {
   "cell_type": "code",
   "execution_count": 31,
   "metadata": {},
   "outputs": [
    {
     "data": {
      "text/plain": [
       "[[1, [0, 1, 0, 0, 0]],\n",
       " [2, [0, 1, 0, 0, 0]],\n",
       " [3, [0, 0, 0, 0, 1]],\n",
       " [4, [1, 0, 0, 0, 0]],\n",
       " [5, [1, 0, 0, 0, 0]],\n",
       " [6, [1, 0, 0, 0, 0]],\n",
       " [7, [1, 0, 0, 0, 0]],\n",
       " [8, [0, 0, 0, 0, 1]],\n",
       " [9, [0, 0, 0, 0, 1]],\n",
       " [10, [1, 0, 0, 0, 0]],\n",
       " [11, [1, 0, 0, 0, 0]],\n",
       " [12, [0, 1, 0, 0, 0]],\n",
       " [13, [0, 0, 0, 0, 1]],\n",
       " [14, [1, 0, 0, 0, 0]],\n",
       " [15, [0, 0, 0, 0, 1]],\n",
       " [16, [0, 1, 0, 0, 0]],\n",
       " [17, [0, 0, 0, 0, 1]],\n",
       " [18, [1, 0, 0, 0, 0]],\n",
       " [19, [0, 0, 0, 0, 1]],\n",
       " [20, [0, 0, 0, 0, 1]],\n",
       " [21, [0, 0, 0, 0, 1]],\n",
       " [22, [1, 0, 0, 0, 0]],\n",
       " [23, [1, 0, 0, 0, 0]],\n",
       " [24, [1, 0, 0, 0, 0]],\n",
       " [25, [1, 0, 0, 0, 0]],\n",
       " [26, [1, 0, 0, 0, 0]],\n",
       " [27, [1, 0, 0, 0, 0]],\n",
       " [28, [0, 0, 0, 1, 0]],\n",
       " [29, [0, 0, 0, 1, 0]],\n",
       " [30, [1, 0, 0, 0, 0]]]"
      ]
     },
     "execution_count": 31,
     "metadata": {},
     "output_type": "execute_result"
    }
   ],
   "source": [
    "#prediction of the pictures in 'selectTest' and the angle predicted, that we can compare to the corresponding picture in the \n",
    "#folder, to see if the model predicts well, or discover bias.\n",
    "#In roadSimulator, in utils, is defined the discretization of the angle, here it is -inf -> -0.75 / -0.75 -> -0.25 / -0.25 ->\n",
    "#0.25 / 0.25 -> 0.75 / 0.75 -> +inf; creating 5 categories in the prediction. The one indicates the predicted category\n",
    "\n",
    "predi = model1.predict(imagesTest[:])\n",
    "predi\n",
    "\n",
    "prediF = [[k+1, [0,0,0,0,0]] for k in range(len(predi))]\n",
    "\n",
    "for i in range(len(predi)):\n",
    "    prediF[i][1][np.argmax(predi[i])] = 1\n",
    "\n",
    "prediF               "
   ]
  },
  {
   "cell_type": "code",
   "execution_count": 14,
   "metadata": {},
   "outputs": [],
   "source": [
    "from keras.models import load_model\n",
    "\n",
    "model.save('my_model.h5')  # creates a HDF5 file 'my_model.h5'\n",
    "# deletes the existing model"
   ]
  },
  {
   "cell_type": "code",
   "execution_count": 22,
   "metadata": {},
   "outputs": [],
   "source": [
    "# returns a compiled model\n",
    "# identical to the previous one, to load a previous model and test it without recreating it\n",
    "model1 = load_model('my_model.h5')"
   ]
  },
  {
   "cell_type": "code",
   "execution_count": 16,
   "metadata": {},
   "outputs": [
    {
     "data": {
      "text/plain": [
       "array([[1.0000000e+00, 1.8360948e-08, 3.0414459e-08, 3.3496179e-09,\n",
       "        1.1203034e-08]], dtype=float32)"
      ]
     },
     "execution_count": 16,
     "metadata": {},
     "output_type": "execute_result"
    }
   ],
   "source": [
    "#example of prediction with the new model\n",
    "print(model1.predict(test_X[:1]))\n",
    "print(test_Y[:1])"
   ]
  }
 ],
 "metadata": {
  "kernelspec": {
   "display_name": "Python 3",
   "language": "python",
   "name": "python3"
  },
  "language_info": {
   "codemirror_mode": {
    "name": "ipython",
    "version": 3
   },
   "file_extension": ".py",
   "mimetype": "text/x-python",
   "name": "python",
   "nbconvert_exporter": "python",
   "pygments_lexer": "ipython3",
   "version": "3.6.5"
  }
 },
 "nbformat": 4,
 "nbformat_minor": 2
}
